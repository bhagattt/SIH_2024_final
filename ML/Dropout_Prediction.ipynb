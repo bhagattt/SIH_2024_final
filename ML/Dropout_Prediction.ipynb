{
  "nbformat": 4,
  "nbformat_minor": 0,
  "metadata": {
    "colab": {
      "provenance": []
    },
    "kernelspec": {
      "name": "python3",
      "display_name": "Python 3"
    },
    "language_info": {
      "name": "python"
    }
  },
  "cells": [
    {
      "cell_type": "code",
      "execution_count": 23,
      "metadata": {
        "colab": {
          "base_uri": "https://localhost:8080/"
        },
        "collapsed": true,
        "id": "jfiJEaSfMA33",
        "outputId": "1e302a71-cc7e-4964-a6d3-b54634c39a66"
      },
      "outputs": [
        {
          "output_type": "stream",
          "name": "stdout",
          "text": [
            "Accuracy: 0.72\n",
            "\n",
            "Classification Report:\n",
            "              precision    recall  f1-score   support\n",
            "\n",
            "           0       0.72      0.99      0.84      2883\n",
            "           1       0.54      0.03      0.05      1117\n",
            "\n",
            "    accuracy                           0.72      4000\n",
            "   macro avg       0.63      0.51      0.44      4000\n",
            "weighted avg       0.67      0.72      0.62      4000\n",
            "\n",
            "\n",
            "Feature Importance:\n",
            "                              feature  importance\n",
            "4                   BehaviorIncidents    0.275746\n",
            "2                      AttendanceRate    0.275435\n",
            "3                        AverageMarks    0.260624\n",
            "12  ParentEducationLevel_MiddleSchool    0.039086\n",
            "9      ParentEducationLevel_Doctorate    0.029816\n",
            "8       ParentEducationLevel_Bachelor    0.026466\n",
            "10    ParentEducationLevel_HighSchool    0.023766\n",
            "11        ParentEducationLevel_Master    0.018782\n",
            "6                            Gender_F    0.013384\n",
            "7                            Gender_M    0.013384\n",
            "0                                 Age    0.010873\n",
            "1                            Standard    0.010873\n",
            "5                    Extracurriculars    0.010834\n",
            "\n",
            "New student dropout prediction: No\n",
            "Probability of dropout: 0.21\n"
          ]
        }
      ],
      "source": [
        "import pandas as pd\n",
        "import numpy as np\n",
        "from sklearn.model_selection import train_test_split\n",
        "from sklearn.preprocessing import StandardScaler\n",
        "from sklearn.linear_model import LogisticRegression\n",
        "from sklearn.metrics import accuracy_score, classification_report\n",
        "\n",
        "# Load the data\n",
        "data = pd.read_csv('/content/student_dropout_data.csv')\n",
        "\n",
        "# Prepare the features and target\n",
        "X = data.drop(['StudentID', 'DropoutStatus'], axis=1)\n",
        "y = data['DropoutStatus']\n",
        "\n",
        "# Encode categorical variables\n",
        "X = pd.get_dummies(X, columns=['Gender', 'ParentEducationLevel'])\n",
        "\n",
        "# Split the data into training and testing sets\n",
        "X_train, X_test, y_train, y_test = train_test_split(X, y, test_size=0.2, random_state=42)\n",
        "\n",
        "# Scale the features\n",
        "scaler = StandardScaler()\n",
        "X_train_scaled = scaler.fit_transform(X_train)\n",
        "X_test_scaled = scaler.transform(X_test)\n",
        "\n",
        "# Create and train the model\n",
        "model = LogisticRegression(random_state=42)\n",
        "model.fit(X_train_scaled, y_train)\n",
        "\n",
        "# Make predictions\n",
        "y_pred = model.predict(X_test_scaled)\n",
        "\n",
        "# Evaluate the model\n",
        "accuracy = accuracy_score(y_test, y_pred)\n",
        "print(f\"Accuracy: {accuracy:.2f}\")\n",
        "print(\"\\nClassification Report:\")\n",
        "print(classification_report(y_test, y_pred))\n",
        "\n",
        "# Feature importance\n",
        "feature_importance = pd.DataFrame({\n",
        "    'feature': X.columns,\n",
        "    'importance': abs(model.coef_[0])\n",
        "})\n",
        "feature_importance = feature_importance.sort_values('importance', ascending=False)\n",
        "print(\"\\nFeature Importance:\")\n",
        "print(feature_importance)\n",
        "\n",
        "# Function to predict dropout for a new student\n",
        "def predict_dropout(student_data):\n",
        "    student_df = pd.DataFrame([student_data])\n",
        "    student_encoded = pd.get_dummies(student_df, columns=['Gender', 'ParentEducationLevel'])\n",
        "    student_encoded = student_encoded.reindex(columns=X.columns, fill_value=0)\n",
        "    student_scaled = scaler.transform(student_encoded)\n",
        "    prediction = model.predict(student_scaled)\n",
        "    probability = model.predict_proba(student_scaled)[0][1]\n",
        "    return prediction[0], probability\n",
        "\n",
        "# Create a new student data point\n",
        "new_student = {\n",
        "    'Age': 14,\n",
        "    'Gender': 'M',\n",
        "    'Standard': 9,\n",
        "    'AttendanceRate': 0.85,\n",
        "    'AverageMarks': 65,\n",
        "    'BehaviorIncidents': 2,\n",
        "    'Extracurriculars': 1,\n",
        "    'ParentEducationLevel': 'HighSchool'\n",
        "}\n",
        "\n",
        "dropout, prob = predict_dropout(new_student)\n",
        "print(f\"\\nNew student dropout prediction: {'Yes' if dropout else 'No'}\")\n",
        "print(f\"Probability of dropout: {prob:.2f}\")"
      ]
    },
    {
      "cell_type": "markdown",
      "source": [
        "[link text](https://)"
      ],
      "metadata": {
        "id": "yL7RMDB4MHyu"
      }
    }
  ]
}